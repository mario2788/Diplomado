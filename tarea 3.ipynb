{
 "cells": [
  {
   "cell_type": "markdown",
   "id": "5c488a31",
   "metadata": {},
   "source": [
    "Practicaremos funciones.\n",
    "Como en la tarea 1, prepare un cuaderno solución de la tarea.\n",
    "\n",
    "Cada ejercicio debe ser probado con un ejemplo de datos.\n",
    "1. Escriba una función  que reciba la fecha de nacimiento de un a persona y calcule la edad de la persona\n",
    "\n",
    "2. Crea una función EscribirCentrado, que reciba como parámetro un texto y lo escriba centrado en pantalla (suponiendo una anchura de 80 columnas; pista: deberás escribir 40 - longitud/2 espacios antes del texto).  \n",
    "\n",
    "\n",
    "3. Construya una función decorada que reciba un texto y lo escriba marcado con Markdown en itálica y resaltada (bold). Revise la lección de decoradores, no vista en clase.\n",
    "\n",
    "4.  Crea un programa que pida dos número enteros al usuario y diga si alguno de ellos es múltiplo del otro. \n",
    "\n",
    "\n",
    "5. Crear una función re reciba una lista  de 24 valores de temperatura leída  hora en un día y que calcule la temperatura media  Cree una lista con 24 valores de temperatura de un día de Bogotá y pruebe su función. Invente los datos.\n",
    "\n",
    "\n",
    "5. Crea un función “ConvertirEspaciado”, que reciba como parámetro un texto y devuelve una cadena con un espacio adicional tras cada letra. Por ejemplo, “Hola, tú” devolverá “H o l a , t ú “.  Pruebe \n",
    "\n",
    "6. Crea una función “calcularMaxMin” que recibe una arreglo con valores numérico y devuelve el valor máximo y el mínimo. \n",
    "7.  Diseñar una función que calcule el área y el perímetro de una circunferencia. \n",
    "\n",
    "8. Crear una función  llamada “Login”, que recibe un nombre de usuario y una contraseña y devuelva Verdadero si el nombre de usuario es “usuario1” y la contraseña es “asdasd”. Además recibe el número de intentos que se ha intentado hacer login y si no se ha podido hacer login incremente este valor.\n",
    "\n",
    "9. Crear una función recursiva que permita calcular el factorial de un número. Realiza un programa principal donde se lea un entero y se muestre el resultado del factorial. Revise la lección de funciones.\n",
    "\n",
    "10 Escribir dos funciones que permitan calcular:\n",
    "La cantidad de segundos en un tiempo dado en horas, minutos y segundos.\n",
    "La cantidad de horas, minutos y segundos de un tiempo dado en segundos\n",
    "\n",
    "11. Crea una función  que lea una tupla, invierta los valores de la tupla y regrese una nueva tupla invirtiendo los valores. Recuerde que las tuplas son inmutables.\n",
    "\n",
    "12. Escriba una función que lea una lista y calcule la media geométrica de sus valores, usando funtools.reduce.\n",
    "\n",
    "Entregable.\n",
    "\n",
    "Enlace a la solución escrita en un cuaderno de Jupyter Lab y puesto en Github."
   ]
  },
  {
   "cell_type": "code",
   "execution_count": 14,
   "id": "3ea5b3aa",
   "metadata": {},
   "outputs": [
    {
     "name": "stdout",
     "output_type": "stream",
     "text": [
      "La fecha debe adoptar el formato dd/mm/yyyy: 03/07/1988\n",
      "Edad: 34 años,  9 meses y 23 dias\n"
     ]
    }
   ],
   "source": [
    "# Punto 1\n",
    "\n",
    "from datetime import date\n",
    "import math as m\n",
    "\n",
    "\n",
    "def calcEdad(string):\n",
    "    \n",
    "    print(\"La fecha debe adoptar el formato dd/mm/yyyy:\",string)\n",
    "    \n",
    "    nums = string.split('/')\n",
    "    day = int(nums[0])\n",
    "    month = int(nums[1])\n",
    "    year= int(nums[2])\n",
    "    \n",
    "    dateAct = date.today()\n",
    "    dayAct = dateAct.day \n",
    "    monthAct = dateAct.month \n",
    "    yearAct = dateAct.year\n",
    "    \n",
    "    days = ( yearAct-year )*365 + (monthAct-month)*30 + dayAct-day\n",
    "    difYear = days//365\n",
    "    difMonth =  m.trunc( (days - difYear*365)/30 )\n",
    "    difDay = m.trunc( days - difMonth*30 - difYear*365 )\n",
    "    \n",
    "    print(\"Edad:\",\n",
    "          difYear, \"años, \",\n",
    "          difMonth, \"meses y\",\n",
    "          difDay,\"dias\")\n",
    "    \n",
    "calcEdad(\"03/07/1988\")\n",
    "\n",
    "    "
   ]
  },
  {
   "cell_type": "code",
   "execution_count": 41,
   "id": "2074206e",
   "metadata": {},
   "outputs": [
    {
     "name": "stdout",
     "output_type": "stream",
     "text": [
      "                                      Mario\n",
      "xxxxxxxxxxxxxxxxxxxxxxxxxxxxxxxxxxxxx Mario xxxxxxxxxxxxxxxxxxxxxxxxxxxxxxxxxxxxx\n"
     ]
    }
   ],
   "source": [
    "# Punto 2\n",
    "\n",
    "def EscribirCentrado(strg):\n",
    "    \n",
    "    l = int( len(strg)/2 )\n",
    "    if l%2 != 0 :\n",
    "        l = l + 1\n",
    "        \n",
    "    x = \"\"\n",
    "    s = \"\"\n",
    "    for n in  range( 1, 40-l ):\n",
    "        s = s + ' '\n",
    "        x = x + 'x'\n",
    " \n",
    "        \n",
    "    print(s,strg)\n",
    "    print(x,strg,x)\n",
    "    \n",
    "EscribirCentrado('Mario')\n",
    "\n",
    "    \n",
    "    \n",
    "    "
   ]
  },
  {
   "cell_type": "code",
   "execution_count": 9,
   "id": "7910a03e",
   "metadata": {},
   "outputs": [
    {
     "name": "stdout",
     "output_type": "stream",
     "text": [
      "Hello, World!\n",
      "Hello, World!\n",
      "Hello, World!\n",
      "Hello, Universe!\n",
      "0 1 2 3 4 5 6 7 8 9 "
     ]
    },
    {
     "name": "stderr",
     "output_type": "stream",
     "text": [
      "Attention!\n"
     ]
    }
   ],
   "source": [
    "# Punto 3\n",
    "\n",
    "\n",
    "\n",
    "def dec(txt):\n",
    "    \n",
    "    print()"
   ]
  },
  {
   "cell_type": "code",
   "execution_count": 16,
   "id": "37ba55d9",
   "metadata": {},
   "outputs": [
    {
     "name": "stdout",
     "output_type": "stream",
     "text": [
      "digita un numero: 12\n",
      "digita otro numero: 6\n",
      "Los numero son multiplos\n"
     ]
    }
   ],
   "source": [
    "# Punto 4 \n",
    "\n",
    "def mult():\n",
    "    \n",
    "    a =  int(input(\"digita un numero: \"))\n",
    "    b =  int(input(\"digita otro numero: \"))\n",
    "    \n",
    "    if(a%b==0 or b%a==0):\n",
    "        print(\"Los numero son multiplos\")\n",
    "    else:\n",
    "        print(\"Los No numeros son multiplos\")\n",
    "        \n",
    "mult()"
   ]
  },
  {
   "cell_type": "code",
   "execution_count": 27,
   "id": "a0fe44b4",
   "metadata": {},
   "outputs": [
    {
     "name": "stdout",
     "output_type": "stream",
     "text": [
      "Digite la temperatura: 10\n",
      "Digite la temperatura: 12\n",
      "Digite la temperatura: 10\n",
      "Digite la temperatura: 12\n",
      "Digite la temperatura: 13\n",
      "Digite la temperatura: 15\n",
      "Digite la temperatura: 16\n",
      "Digite la temperatura: 14\n",
      "Digite la temperatura: 12\n",
      "Digite la temperatura: 18\n",
      "Digite la temperatura: 19\n",
      "Digite la temperatura: 20\n",
      "Digite la temperatura: 21\n",
      "Digite la temperatura: 15\n",
      "Digite la temperatura: 16\n",
      "Digite la temperatura: 15\n",
      "Digite la temperatura: 18\n",
      "Digite la temperatura: 20\n",
      "Digite la temperatura: 22\n",
      "Digite la temperatura: 23\n",
      "Digite la temperatura: 21\n",
      "Digite la temperatura: 252\n",
      "Digite la temperatura: 26\n",
      "Digite la temperatura: 20\n",
      "La temperatura promedio es:  26.666666666666668\n"
     ]
    }
   ],
   "source": [
    "# Punto 5\n",
    "\n",
    "from statistics import mean\n",
    "\n",
    "def prom(array):\n",
    "    \n",
    "    print(\"La temperatura promedio es: \", mean(array) )\n",
    "\n",
    "def inArray():\n",
    "    \n",
    "    arr = []\n",
    "    for n in  range(0,24):\n",
    "        arr.append( int(input( \"Digite la temperatura: \")))\n",
    "    return arr\n",
    "\n",
    "prom( inArray() )\n",
    "    "
   ]
  },
  {
   "cell_type": "code",
   "execution_count": 38,
   "id": "73332202",
   "metadata": {},
   "outputs": [
    {
     "name": "stdout",
     "output_type": "stream",
     "text": [
      "m a r i o \n"
     ]
    }
   ],
   "source": [
    "# Punto 6\n",
    "\n",
    "def addSpa(txt):\n",
    "    \n",
    "    rtn = \"\"\n",
    "    for c in txt:\n",
    "        rtn = rtn + c\n",
    "        rtn = rtn + ' '\n",
    "    print(rtn)\n",
    "\n",
    "addSpa('mario')"
   ]
  },
  {
   "cell_type": "code",
   "execution_count": 41,
   "id": "3a02676c",
   "metadata": {},
   "outputs": [
    {
     "name": "stdout",
     "output_type": "stream",
     "text": [
      "Maximo: 9\n",
      "Mínimo: 1\n"
     ]
    }
   ],
   "source": [
    "# Punto 7\n",
    "\n",
    "def calcMaxMin(array):\n",
    "    \n",
    "    print(\"Maximo:\", max(array))\n",
    "    print(\"Mínimo:\", min(array))\n",
    "\n",
    "calcMaxMin([1,5,9,8,3,6,5,7,5,1])\n"
   ]
  },
  {
   "cell_type": "code",
   "execution_count": 46,
   "id": "d925a066",
   "metadata": {},
   "outputs": [
    {
     "name": "stdout",
     "output_type": "stream",
     "text": [
      "Perimetro:  31.41592653589793\n",
      "Area:  78.53981633974483\n"
     ]
    }
   ],
   "source": [
    "# Punto 8\n",
    "\n",
    "import math as m\n",
    "\n",
    "def perim(r):\n",
    "    \n",
    "    print(\"Perimetro: \", 2*m.pi*r )\n",
    "    print(\"Area: \", m.pi*r*r)\n",
    "    \n",
    "perim(5)"
   ]
  },
  {
   "cell_type": "code",
   "execution_count": 53,
   "id": "c1696b20",
   "metadata": {},
   "outputs": [
    {
     "name": "stdout",
     "output_type": "stream",
     "text": [
      "user: usuario1\n",
      "user: asdasd\n",
      "Credenciales correctas\n"
     ]
    }
   ],
   "source": [
    "# Punto 9\n",
    "\n",
    "def login():\n",
    "    \n",
    "    usr = \"usuario1\"\n",
    "    pas = \"asdasd\"\n",
    "    intentos = 0\n",
    "    \n",
    "    \n",
    "    while(True):\n",
    "        user = input(\"user: \")\n",
    "        passw = input(\"user: \")\n",
    "        \n",
    "        if( user==usr and pas== passw):\n",
    "            print(\"Credenciales correctas\")\n",
    "            break\n",
    "        else:\n",
    "            intentos = intentos + 1\n",
    "            print(\"Credenciales incorrectas, intentos\", intentos)\n",
    "            \n",
    "login()\n",
    "    \n",
    "    "
   ]
  },
  {
   "cell_type": "code",
   "execution_count": 76,
   "id": "710306ab",
   "metadata": {},
   "outputs": [
    {
     "data": {
      "text/plain": [
       "3628800"
      ]
     },
     "execution_count": 76,
     "metadata": {},
     "output_type": "execute_result"
    }
   ],
   "source": [
    "# Punto 10\n",
    "\n",
    "def factorial(num):\n",
    "    \n",
    "    def fac(n, res):\n",
    "        \n",
    "        if( n != 1 ):\n",
    "            return fac(n-1, res*n )\n",
    "        else:\n",
    "            return(res)\n",
    "    \n",
    "    return( fac(num, 1) )\n",
    "\n",
    "factorial(10)\n",
    "    "
   ]
  },
  {
   "cell_type": "code",
   "execution_count": 81,
   "id": "eb612cf8",
   "metadata": {},
   "outputs": [
    {
     "name": "stdout",
     "output_type": "stream",
     "text": [
      "Segundos:  16224\n",
      "Tiempo =>  4  horas:  30  minutos: y  24  segundos\n"
     ]
    }
   ],
   "source": [
    "# Punto 11\n",
    "\n",
    "def segundos(h,m,s):\n",
    "    \n",
    "    print(\"Segundos: \", h*60*60 + m*60 + s )\n",
    "\n",
    "def time(s):\n",
    "    \n",
    "    h = s//3600\n",
    "    m = s//60 - h*60\n",
    "    s = s - m*60 - h*3600\n",
    "    \n",
    "    print(\"Tiempo => \", h,\" horas: \", m, \" minutos: y \", s, \" segundos\" )\n",
    "\n",
    "segundos(4, 30, 24)\n",
    "time(16224)"
   ]
  },
  {
   "cell_type": "code",
   "execution_count": 90,
   "id": "f65b0c33",
   "metadata": {},
   "outputs": [
    {
     "name": "stdout",
     "output_type": "stream",
     "text": [
      "(1, 2, 3, 4, 5, 6)\n"
     ]
    }
   ],
   "source": [
    "# Punto 12\n",
    "\n",
    "a = (1,2,3,4,5,6)\n",
    "\n",
    "def invTup(t):\n",
    "    \n",
    "    rtn = []\n",
    "    for n in range(0, len(t)):\n",
    "        rtn.append( a[n])\n",
    "    \n",
    "    print( tuple(rtn) )\n",
    "\n",
    "invTup(a)"
   ]
  },
  {
   "cell_type": "code",
   "execution_count": 102,
   "id": "1f90146e",
   "metadata": {},
   "outputs": [
    {
     "name": "stdout",
     "output_type": "stream",
     "text": [
      "3.0\n"
     ]
    }
   ],
   "source": [
    "# Punto 13\n",
    "from functools import reduce\n",
    "\n",
    "def medGeo(array):\n",
    "    \n",
    "    a = reduce( lambda x,y : (x*y), array )\n",
    "\n",
    "    print( a**(1/len(array)) )\n",
    "    \n",
    "medGeo([1,3,9])"
   ]
  }
 ],
 "metadata": {
  "kernelspec": {
   "display_name": "Python 3 (ipykernel)",
   "language": "python",
   "name": "python3"
  },
  "language_info": {
   "codemirror_mode": {
    "name": "ipython",
    "version": 3
   },
   "file_extension": ".py",
   "mimetype": "text/x-python",
   "name": "python",
   "nbconvert_exporter": "python",
   "pygments_lexer": "ipython3",
   "version": "3.9.16"
  }
 },
 "nbformat": 4,
 "nbformat_minor": 5
}
