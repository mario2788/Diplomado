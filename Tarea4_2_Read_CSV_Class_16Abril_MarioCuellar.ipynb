{
 "cells": [
  {
   "cell_type": "markdown",
   "id": "c1435032",
   "metadata": {},
   "source": [
    "\n",
    "\n",
    "3. Escriba una clase con las siguientes funcionalidades:\n",
    "    3.1. Al instanciar un objeto, lee un conjunto de datos numéricos. Por ejemplo puede usar el mismo conjunto de datos iris.csv. Instancie los datos en un dataframe de Pandas.\n",
    "    3.2 Implemente un método que calcule las estadísticas descriptivas básicas de cada una de las variables.\n",
    "    3.3 Implemente un método que entregue los nombre de las variables disponibles.\n",
    "    3.3 Implemente un método que reciba el nombre de una variable disponible dentro del objeto ( en el  dataframe) y regrese: sus estadísticas básicas:  media, mediana, desviación, percentiles q25, q50, q75 y dibuje un histograma de la distribución de la variable.\n"
   ]
  },
  {
   "cell_type": "code",
   "execution_count": 6,
   "id": "a11709f0",
   "metadata": {},
   "outputs": [
    {
     "name": "stdout",
     "output_type": "stream",
     "text": [
      "\n",
      "Variables disponibles:\n",
      "['sepal.length', 'sepal.width', 'petal.length', 'petal.width', 'variety']\n",
      "\n",
      "Estadísticas básicas:\n",
      "       sepal.length  sepal.width  petal.length  petal.width\n",
      "count    150.000000   150.000000    150.000000   150.000000\n",
      "mean       5.843333     3.057333      3.758000     1.199333\n",
      "std        0.828066     0.435866      1.765298     0.762238\n",
      "min        4.300000     2.000000      1.000000     0.100000\n",
      "25%        5.100000     2.800000      1.600000     0.300000\n",
      "50%        5.800000     3.000000      4.350000     1.300000\n",
      "75%        6.400000     3.300000      5.100000     1.800000\n",
      "max        7.900000     4.400000      6.900000     2.500000\n",
      "\n",
      "Análisis de la variable 'sepal.length':\n"
     ]
    },
    {
     "data": {
      "image/png": "[encoded data removed]",
      "text/plain": [
       "<Figure size 640x480 with 1 Axes>"
      ]
     },
     "metadata": {},
     "output_type": "display_data"
    },
    {
     "name": "stdout",
     "output_type": "stream",
     "text": [
      "{'mean': 5.843333333333334, 'median': 5.8, 'std': 0.8280661279778629, 'q25': 5.1, 'q50': 5.8, 'q75': 6.4}\n"
     ]
    }
   ],
   "source": [
    "\n",
    "import pandas as pd\n",
    "import matplotlib.pyplot as plt\n",
    "\n",
    "class DataAnalyzer:\n",
    "    def __init__(self, file_path):\n",
    "        self.file_path = file_path\n",
    "        self.df = None\n",
    "        self.variables = None\n",
    "    \n",
    "    def read_data(self):\n",
    "        try:\n",
    "            self.df = pd.read_csv(self.file_path)\n",
    "            self.variables = list(self.df.columns)\n",
    "            return True\n",
    "        except FileNotFoundError:\n",
    "            print(f\"Error: File '{self.file_path}' not found.\")\n",
    "            return False\n",
    "    \n",
    "    def calculate_basic_stats(self):\n",
    "        if self.df is not None:\n",
    "            return self.df.describe()\n",
    "        else:\n",
    "            return None\n",
    "    \n",
    "    def get_variables(self):\n",
    "        return self.variables\n",
    "    \n",
    "    def analyze_variable(self, variable_name):\n",
    "        if self.df is not None and variable_name in self.variables:\n",
    "            variable_data = self.df[variable_name]\n",
    "            stats = {\n",
    "                \"mean\": variable_data.mean(),\n",
    "                \"median\": variable_data.median(),\n",
    "                \"std\": variable_data.std(),\n",
    "                \"q25\": variable_data.quantile(0.25),\n",
    "                \"q50\": variable_data.quantile(0.5),\n",
    "                \"q75\": variable_data.quantile(0.75)\n",
    "            }\n",
    "            plt.hist(variable_data)\n",
    "            plt.title(f\"Distribution of {variable_name}\")\n",
    "            plt.xlabel(variable_name)\n",
    "            plt.ylabel(\"Frequency\")\n",
    "            plt.show()\n",
    "            return stats\n",
    "        else:\n",
    "            return None\n",
    "        \n",
    "        \n",
    "    \n",
    "analyzer = DataAnalyzer(\"iris.csv\")\n",
    "analyzer.read_data()\n",
    "\n",
    "# Obtener la lista de variables disponibles\n",
    "print(\"\\nVariables disponibles:\")\n",
    "print(analyzer.get_variables())\n",
    "\n",
    "# Calcular las estadísticas básicas para todas las variables\n",
    "print(\"\\nEstadísticas básicas:\")\n",
    "print(analyzer.calculate_basic_stats())\n",
    "\n",
    "# Analizar la variable \"sepal.length\"\n",
    "print(\"\\nAnálisis de la variable 'sepal.length':\")\n",
    "print(analyzer.analyze_variable(\"sepal.length\"))\n"
   ]
  }
 ],
 "metadata": {
  "kernelspec": {
   "display_name": "Python 3 (ipykernel)",
   "language": "python",
   "name": "python3"
  },
  "language_info": {
   "codemirror_mode": {
    "name": "ipython",
    "version": 3
   },
   "file_extension": ".py",
   "mimetype": "text/x-python",
   "name": "python",
   "nbconvert_exporter": "python",
   "pygments_lexer": "ipython3",
   "version": "3.9.16"
  }
 },
 "nbformat": 4,
 "nbformat_minor": 5
}
